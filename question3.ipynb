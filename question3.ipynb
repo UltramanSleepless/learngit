{
 "cells": [
  {
   "cell_type": "code",
   "execution_count": 1,
   "metadata": {},
   "outputs": [
    {
     "name": "stdout",
     "output_type": "stream",
     "text": [
      "平均速度模型的均方误差: 44.01487339280121\n",
      "TPI模型的均方误差: 0.5123731717043779\n",
      "平均速度模型的系数: [-0.05895592  0.695317  ]\n",
      "平均速度模型的截距: 25.326767388748063\n",
      "TPI模型的系数: [-0.02238211  0.12212683]\n",
      "TPI模型的截距: 1.473142845136113\n"
     ]
    }
   ],
   "source": [
    "import pandas as pd\n",
    "from sklearn.model_selection import train_test_split\n",
    "from sklearn.linear_model import LinearRegression\n",
    "from sklearn.metrics import mean_squared_error\n",
    "import numpy as np\n",
    "\n",
    "# 加载数据\n",
    "data = pd.read_csv('/home/sszu/Huawei/test/new_3-2汇总.csv')\n",
    "\n",
    "# 假设CSV文件中的列名如下\n",
    "features = data[['流量', '密度']]  # 特征变量\n",
    "target_avg_speed = data['平均速度']  # 平均速度作为目标变量\n",
    "target_tpi = data['TPI']  # TPI作为目标变量\n",
    "\n",
    "# 划分训练集和测试集\n",
    "X_train, X_test, y_train_avg_speed, y_test_avg_speed = train_test_split(features, target_avg_speed, test_size=0.2, random_state=0)\n",
    "X_train_tpi, X_test_tpi, y_train_tpi, y_test_tpi = train_test_split(features, target_tpi, test_size=0.2, random_state=0)\n",
    "\n",
    "# 创建线性回归模型\n",
    "model_avg_speed = LinearRegression()\n",
    "model_tpi = LinearRegression()\n",
    "\n",
    "# 训练模型\n",
    "model_avg_speed.fit(X_train, y_train_avg_speed)\n",
    "model_tpi.fit(X_train_tpi, y_train_tpi)\n",
    "\n",
    "# 预测\n",
    "y_pred_avg_speed = model_avg_speed.predict(X_test)\n",
    "y_pred_tpi = model_tpi.predict(X_test_tpi)\n",
    "\n",
    "# 评估模型\n",
    "mse_avg_speed = mean_squared_error(y_test_avg_speed, y_pred_avg_speed)\n",
    "mse_tpi = mean_squared_error(y_test_tpi, y_pred_tpi)\n",
    "\n",
    "print(f'平均速度模型的均方误差: {mse_avg_speed}')\n",
    "print(f'TPI模型的均方误差: {mse_tpi}')\n",
    "\n",
    "# 如果你想要查看模型的系数和截距\n",
    "print(f'平均速度模型的系数: {model_avg_speed.coef_}')\n",
    "print(f'平均速度模型的截距: {model_avg_speed.intercept_}')\n",
    "print(f'TPI模型的系数: {model_tpi.coef_}')\n",
    "print(f'TPI模型的截距: {model_tpi.intercept_}')"
   ]
  }
 ],
 "metadata": {
  "kernelspec": {
   "display_name": "base",
   "language": "python",
   "name": "python3"
  },
  "language_info": {
   "codemirror_mode": {
    "name": "ipython",
    "version": 3
   },
   "file_extension": ".py",
   "mimetype": "text/x-python",
   "name": "python",
   "nbconvert_exporter": "python",
   "pygments_lexer": "ipython3",
   "version": "3.11.7"
  }
 },
 "nbformat": 4,
 "nbformat_minor": 2
}
